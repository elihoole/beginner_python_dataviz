{
 "cells": [
  {
   "cell_type": "markdown",
   "metadata": {},
   "source": [
    "# Sri Lankan Census Data Visualisation"
   ]
  },
  {
   "cell_type": "markdown",
   "metadata": {},
   "source": [
    "### Let's first import the libraries we need"
   ]
  },
  {
   "cell_type": "code",
   "execution_count": null,
   "metadata": {},
   "outputs": [],
   "source": [
    "# import matplotlib package for plotting \n",
    "import matplotlib\n",
    "matplotlib.use('TkAgg') # this is a backend that lets us use interactive plotting"
   ]
  },
  {
   "cell_type": "code",
   "execution_count": null,
   "metadata": {},
   "outputs": [],
   "source": [
    "import matplotlib.pyplot as plt\n",
    "from mpl_toolkits.axes_grid1 import make_axes_locatable "
   ]
  },
  {
   "cell_type": "markdown",
   "metadata": {},
   "source": [
    "We will be using a Sri Lankan Geodata library to generate Sri Lankan maps.\n",
    "See more at https://medium.com/on-technology/plotting-maps-of-sri-lanka-with-geopandas-and-matplotlib-377d50e3f0f"
   ]
  },
  {
   "cell_type": "code",
   "execution_count": null,
   "metadata": {
    "scrolled": true
   },
   "outputs": [],
   "source": [
    "# Sri Lankan geodata library \n",
    "from geo import geodata "
   ]
  },
  {
   "cell_type": "code",
   "execution_count": null,
   "metadata": {},
   "outputs": [],
   "source": [
    "# pandas is the industry standard python library for tabular data\n",
    "import pandas as pd "
   ]
  },
  {
   "cell_type": "code",
   "execution_count": null,
   "metadata": {},
   "outputs": [],
   "source": [
    "# inline makes plots within the notebook\n",
    "%matplotlib inline"
   ]
  },
  {
   "cell_type": "markdown",
   "metadata": {},
   "source": [
    "## Part 1: Do we need more teachers in Sri Lankan schools?"
   ]
  },
  {
   "cell_type": "markdown",
   "metadata": {},
   "source": [
    "We are using data downloaded from various SL government sources. Most data is available in PDF form only. This is bad as we can't perform analysis on pdf files. There are Python tools that let you convert pdfs to csv format. One such tool is Tabula. You can read more about it here: https://tabula.technology/ <br>\n",
    "\n",
    "For this class, I have already created required csv files. But when you convert from pdfs, most will have some errors that need fixing. We will get a flavour for data cleaning in the class but often data can be more messy than here. "
   ]
  },
  {
   "cell_type": "markdown",
   "metadata": {},
   "source": [
    "### 1. Get district wise student and teacher stats"
   ]
  },
  {
   "cell_type": "code",
   "execution_count": null,
   "metadata": {},
   "outputs": [],
   "source": [
    "# pandas produces objects called DataFrames \n",
    "district_school_stats = pd.read_csv('tabula-School_Census_Report_2019.csv')"
   ]
  },
  {
   "cell_type": "code",
   "execution_count": null,
   "metadata": {},
   "outputs": [],
   "source": [
    "# see the structure of data\n",
    "district_school_stats.head(10)"
   ]
  },
  {
   "cell_type": "code",
   "execution_count": null,
   "metadata": {},
   "outputs": [],
   "source": [
    "district_school_s = district_school_stats.rename(columns={\n",
    "    'Unnamed: 0' : 'district', \n",
    "    'Unnamed: 1' : 'total number of schools',\n",
    "    'Unnamed: 2' : 'percentage_schools',\n",
    "    'Unnamed: 3' : 'total number of students', \n",
    "    'Unnamed: 4': 'percentage_students',\n",
    "    'Total No.': 'total number of teachers', \n",
    "    'Unnamed: 6': 'percentage_teachers', \n",
    "    'Student': 'student teacher ratio',\n",
    "    'Average' : 'average number of students per school',\n",
    "    'Average' : 'average number of teachers per school'})"
   ]
  },
  {
   "cell_type": "code",
   "execution_count": null,
   "metadata": {},
   "outputs": [],
   "source": [
    "district_school_s = district_school_s.loc[4:,:]"
   ]
  },
  {
   "cell_type": "code",
   "execution_count": null,
   "metadata": {},
   "outputs": [],
   "source": [
    "district_school_s"
   ]
  },
  {
   "cell_type": "markdown",
   "metadata": {},
   "source": [
    "#### Remove numbers from district names"
   ]
  },
  {
   "cell_type": "code",
   "execution_count": null,
   "metadata": {},
   "outputs": [],
   "source": [
    "district_school_s['district'] = (district_school_s.iloc[:-1]['district']).apply(lambda x: x.split('.')[1].strip())"
   ]
  },
  {
   "cell_type": "markdown",
   "metadata": {},
   "source": [
    "#### Clean up student numbers column"
   ]
  },
  {
   "cell_type": "code",
   "execution_count": null,
   "metadata": {},
   "outputs": [],
   "source": [
    "district_school_s['total number of students']= district_school_s.iloc[:-1]['total number of students'].apply(lambda x: (x.replace(',', '')))"
   ]
  },
  {
   "cell_type": "code",
   "execution_count": null,
   "metadata": {},
   "outputs": [],
   "source": [
    "district_school_s['total number of students']= district_school_s.iloc[:-1]['total number of students'].apply(lambda x: (x.replace(' ', '')))"
   ]
  },
  {
   "cell_type": "code",
   "execution_count": null,
   "metadata": {},
   "outputs": [],
   "source": [
    "district_school_s['total number of students']= district_school_s.iloc[:-1]['total number of students'].apply(lambda x: float(x))"
   ]
  },
  {
   "cell_type": "markdown",
   "metadata": {},
   "source": [
    "#### Clean up teacher numbers column"
   ]
  },
  {
   "cell_type": "code",
   "execution_count": null,
   "metadata": {},
   "outputs": [],
   "source": [
    "district_school_s['total number of teachers']= district_school_s.iloc[:-1]['total number of teachers'].apply(lambda x: (x.replace(',', '')))"
   ]
  },
  {
   "cell_type": "code",
   "execution_count": null,
   "metadata": {},
   "outputs": [],
   "source": [
    "district_school_s['total number of teachers']= district_school_s.iloc[:-1]['total number of teachers'].apply(lambda x: (x.replace(' ', '')))"
   ]
  },
  {
   "cell_type": "code",
   "execution_count": null,
   "metadata": {},
   "outputs": [],
   "source": [
    "district_school_s['total number of teachers']= district_school_s.iloc[:-1]['total number of teachers'].apply(lambda x: float(x))"
   ]
  },
  {
   "cell_type": "code",
   "execution_count": null,
   "metadata": {},
   "outputs": [],
   "source": [
    "district_school_s = district_school_s[district_school_s['district'].notnull()]"
   ]
  },
  {
   "cell_type": "code",
   "execution_count": null,
   "metadata": {},
   "outputs": [],
   "source": [
    "district_school_s.iloc[:, 1:] = district_school_s.iloc[:, 1:].astype('float64')"
   ]
  },
  {
   "cell_type": "markdown",
   "metadata": {},
   "source": [
    "### 2. Get district wise geodata"
   ]
  },
  {
   "cell_type": "code",
   "execution_count": null,
   "metadata": {},
   "outputs": [],
   "source": [
    "district_geo = geodata.get_region_geodata('LK', 'district')"
   ]
  },
  {
   "cell_type": "code",
   "execution_count": null,
   "metadata": {},
   "outputs": [],
   "source": [
    "district_geo = district_geo.rename(columns={'name':'district'})"
   ]
  },
  {
   "cell_type": "markdown",
   "metadata": {},
   "source": [
    "### 3. Merge district school stats and district geodata into one DataFrame"
   ]
  },
  {
   "cell_type": "code",
   "execution_count": null,
   "metadata": {},
   "outputs": [],
   "source": [
    "district_stats = pd.merge(district_geo, district_school_s, on='district', how='inner')"
   ]
  },
  {
   "cell_type": "code",
   "execution_count": null,
   "metadata": {},
   "outputs": [],
   "source": [
    "district_stats['teachers per 100 students'] = (1/district_stats['student teacher ratio'])*100"
   ]
  },
  {
   "cell_type": "markdown",
   "metadata": {},
   "source": []
  },
  {
   "cell_type": "code",
   "execution_count": null,
   "metadata": {},
   "outputs": [],
   "source": [
    "district_stats['teachers per 100 students'] = (district_stats['total number of teachers']/district_stats['total number of students'])*100"
   ]
  },
  {
   "cell_type": "markdown",
   "metadata": {},
   "source": [
    "### 4. Plot teacher to student ratio on Sri Lanka map"
   ]
  },
  {
   "cell_type": "code",
   "execution_count": null,
   "metadata": {},
   "outputs": [],
   "source": [
    "fig, ax = plt.subplots(figsize=(15,15))\n",
    "ax.set_aspect('equal')\n",
    "divider = make_axes_locatable(ax)\n",
    "cax = divider.append_axes(\"right\", size=\"5%\", pad=1)\n",
    "district_stats.plot(column='teachers per 100 students', ax=ax, cax=cax, legend=True, cmap=  'OrRd')\n",
    "\n",
    "ax.set_title('District Teachers to Student Ratio', fontsize=16)\n",
    "cax.set_ylabel('Teachers per 100 students', rotation=90, fontsize=14)\n",
    "plt.tight_layout()\n",
    "\n",
    "plt.savefig('teacher_student_ration.png')"
   ]
  },
  {
   "cell_type": "markdown",
   "metadata": {},
   "source": [
    "### 5. Get O/L pass rate"
   ]
  },
  {
   "cell_type": "code",
   "execution_count": null,
   "metadata": {},
   "outputs": [],
   "source": [
    "pass_rate = pd.read_csv('tabula-o-l-pass-rate.csv')"
   ]
  },
  {
   "cell_type": "markdown",
   "metadata": {},
   "source": [
    "#### Clean up ol_pass rate dataframe"
   ]
  },
  {
   "cell_type": "code",
   "execution_count": null,
   "metadata": {},
   "outputs": [],
   "source": [
    "pass_rate = pass_rate.set_index('district')"
   ]
  },
  {
   "cell_type": "code",
   "execution_count": null,
   "metadata": {},
   "outputs": [],
   "source": [
    "pass_rate = pass_rate.rename(index={'Monaragala':'Moneragala'})"
   ]
  },
  {
   "cell_type": "code",
   "execution_count": null,
   "metadata": {},
   "outputs": [],
   "source": [
    "pass_rate = pass_rate.reset_index()"
   ]
  },
  {
   "cell_type": "markdown",
   "metadata": {},
   "source": [
    "### 6. Merge O/L passrate DataFrame with district geo DataFrame"
   ]
  },
  {
   "cell_type": "code",
   "execution_count": null,
   "metadata": {},
   "outputs": [],
   "source": [
    "pass_rate_geo = pd.merge(district_geo, pass_rate, on='district', how='inner')"
   ]
  },
  {
   "cell_type": "code",
   "execution_count": null,
   "metadata": {},
   "outputs": [],
   "source": [
    "pass_rate_geo['percentage qualified for a_l'] = pass_rate_geo['percentage qualified for a_l'].astype('float64')"
   ]
  },
  {
   "cell_type": "markdown",
   "metadata": {},
   "source": [
    "### 7. Plot O/L pass rate into one and teacher student ratio into another side by side"
   ]
  },
  {
   "cell_type": "code",
   "execution_count": null,
   "metadata": {},
   "outputs": [],
   "source": [
    "fig, axs = plt.subplots(1,2,figsize=(15,12))\n",
    "axs[0].set_aspect('equal')\n",
    "axs[1].set_aspect('equal')\n",
    "divider_0 = make_axes_locatable(axs[0])\n",
    "divider_1 = make_axes_locatable(axs[1])\n",
    "\n",
    "cax_0 = divider_0.append_axes(\"right\", size=\"5%\", pad=.5)\n",
    "cax_1 = divider_1.append_axes(\"right\", size=\"5%\", pad=.5)\n",
    "\n",
    "\n",
    "district_stats.plot(column='teachers per 100 students', ax=axs[0], cax=cax_0, legend=True, cmap='OrRd')\n",
    "\n",
    "axs[0].set_title('District teacher student ratio', fontsize=18)\n",
    "cax_0.set_ylabel(\"teachers per 100 students\", rotation=90, fontsize=15)\n",
    "\n",
    "pass_rate_geo.plot(column='percentage qualified for a_l', ax=axs[1], cax=cax_1, legend=True, cmap='OrRd')\n",
    "\n",
    "axs[1].set_title('O/L pass rate for 2018', fontsize=18)\n",
    "cax_1.set_ylabel('percentage qualified for A/L from 2018 O/L examination', rotation=90, fontsize=15)\n",
    "\n",
    "\n",
    "axs[0].tick_params(which='both', left=False, bottom=False, labelleft=False, labelbottom=False)\n",
    "axs[1].tick_params(which='both', left=False, bottom=False, labelleft=False, labelbottom=False)\n",
    "\n",
    "plt.tight_layout()\n",
    "# plt.savefig('teachers_vs_o_l_pass_rate.jpg')"
   ]
  },
  {
   "cell_type": "markdown",
   "metadata": {},
   "source": [
    "### 8. Scatter plot teacher student ration vs. O/L pass rate and find best fit line"
   ]
  },
  {
   "cell_type": "code",
   "execution_count": null,
   "metadata": {},
   "outputs": [],
   "source": [
    "dist_pass_merge = pd.merge(district_stats, pass_rate, on='district', how='inner')"
   ]
  },
  {
   "cell_type": "code",
   "execution_count": null,
   "metadata": {},
   "outputs": [],
   "source": [
    "import sklearn.linear_model\n",
    "import numpy as np\n",
    "\n",
    "X = np.c_[dist_pass_merge[\"teachers per 100 students\"]]\n",
    "y = np.c_[dist_pass_merge[\"percentage qualified for a_l\"]]\n",
    "\n",
    "\n",
    "# Select a linear model\n",
    "model = sklearn.linear_model.LinearRegression()\n",
    "\n",
    "# Train the model\n",
    "model.fit(X, y)\n",
    "\n",
    "# Make a prediction for teacher ratio 10\n",
    "X_new = [[10]]  # high teacher ratio\n",
    "print(model.predict(X_new)) # outputs "
   ]
  },
  {
   "cell_type": "code",
   "execution_count": null,
   "metadata": {},
   "outputs": [],
   "source": [
    "from sklearn import linear_model # scikit learn is a machine learning library\n",
    "\n",
    "dist_pass_merge.plot(kind='scatter', x='teachers per 100 students', y='percentage qualified for a_l', figsize=(10,8))\n",
    "lin1 = linear_model.LinearRegression()\n",
    "x, y = np.c_[dist_pass_merge['teachers per 100 stu dents']], np.c_[dist_pass_merge['percentage qualified for a_l']]\n",
    "\n",
    "lin1.fit(x, y)\n",
    "t0, t1 = lin1.intercept_[0], lin1.coef_[0][0]\n",
    "t0, t1\n",
    "X=np.linspace(4, 9, 1000)\n",
    "plt.plot(X, t0 + t1 * X, 'r')"
   ]
  },
  {
   "cell_type": "markdown",
   "metadata": {},
   "source": [
    "### 9. Are A/L outcomes any different?"
   ]
  },
  {
   "cell_type": "code",
   "execution_count": null,
   "metadata": {},
   "outputs": [],
   "source": [
    "al_result = pd.read_csv('al-2020-results.csv')"
   ]
  },
  {
   "cell_type": "code",
   "execution_count": null,
   "metadata": {},
   "outputs": [],
   "source": [
    "al_result['percentage'] = al_result['number_uni_eligible'].apply(lambda x: x.split()[1])"
   ]
  },
  {
   "cell_type": "code",
   "execution_count": null,
   "metadata": {},
   "outputs": [],
   "source": [
    "al_result['number_uni_eligible']  = al_result['number_uni_eligible'].apply(lambda x: x.split()[0])"
   ]
  },
  {
   "cell_type": "code",
   "execution_count": null,
   "metadata": {},
   "outputs": [],
   "source": [
    "al_result = al_result[['district', 'number_sat', 'number_uni_eligible', 'percentage']]"
   ]
  },
  {
   "cell_type": "code",
   "execution_count": null,
   "metadata": {},
   "outputs": [],
   "source": [
    "al_result"
   ]
  },
  {
   "cell_type": "code",
   "execution_count": null,
   "metadata": {},
   "outputs": [],
   "source": [
    "grad_teachers = pd.read_csv('teachers_by_category.csv')"
   ]
  },
  {
   "cell_type": "code",
   "execution_count": null,
   "metadata": {},
   "outputs": [],
   "source": [
    "grad_teachers['District'] = grad_teachers['District'][:-1].apply(lambda x: x.split('.')[1].strip())"
   ]
  },
  {
   "cell_type": "code",
   "execution_count": null,
   "metadata": {},
   "outputs": [],
   "source": [
    "grad_teachers.loc[25, 'District'] = 'Total'"
   ]
  },
  {
   "cell_type": "code",
   "execution_count": null,
   "metadata": {},
   "outputs": [],
   "source": [
    "grad_teachers = grad_teachers.rename(columns={'District': 'district'})"
   ]
  },
  {
   "cell_type": "code",
   "execution_count": null,
   "metadata": {},
   "outputs": [],
   "source": [
    "al_outcomes = pd.merge(al_result, grad_teachers, on='district', how='inner')"
   ]
  },
  {
   "cell_type": "code",
   "execution_count": null,
   "metadata": {},
   "outputs": [],
   "source": [
    "al_outcomes['number_sat'] = al_outcomes['number_sat'].apply(lambda x: x.replace(',', ''))"
   ]
  },
  {
   "cell_type": "code",
   "execution_count": null,
   "metadata": {},
   "outputs": [],
   "source": [
    "al_outcomes['percentage'] = al_outcomes['percentage'].astype('float64')"
   ]
  },
  {
   "cell_type": "code",
   "execution_count": null,
   "metadata": {},
   "outputs": [],
   "source": [
    "al_outcomes"
   ]
  },
  {
   "cell_type": "code",
   "execution_count": null,
   "metadata": {},
   "outputs": [],
   "source": [
    "al_outcomes['grad teachers per 100 a_l students'] = (al_outcomes['Graduate']/al_outcomes['number_sat'])*100"
   ]
  },
  {
   "cell_type": "code",
   "execution_count": null,
   "metadata": {},
   "outputs": [],
   "source": [
    "al_outcomes.plot(kind='scatter', x='grad teachers per 100 a_l students', y='percentage', figsize=(10,8))\n",
    "\n",
    "lin1 = linear_model.LinearRegression()\n",
    "x, y = np.c_[al_outcomes['grad teachers per 100 a_l students']], np.c_[al_outcomes['percentage']]\n",
    "\n",
    "lin1.fit(x, y)\n",
    "t0, t1 = lin1.intercept_[0], lin1.coef_[0][0]\n",
    "t0, t1\n",
    "X = np.linspace(34, 70, 10)\n",
    "plt.plot(X, t0 + t1 * X, 'r')\n",
    "\n",
    "\n",
    "plt.ylabel('percentage eligible for university')\n",
    "plt.xlabel('number of graduate teachers per 100 A/L exam sitters (new syllabus) in 2020')"
   ]
  },
  {
   "cell_type": "code",
   "execution_count": null,
   "metadata": {},
   "outputs": [],
   "source": [
    "t0"
   ]
  },
  {
   "cell_type": "code",
   "execution_count": null,
   "metadata": {},
   "outputs": [],
   "source": [
    "t1"
   ]
  },
  {
   "cell_type": "markdown",
   "metadata": {},
   "source": [
    "## Part 2: Will the people of Mannar survive a Tsunami? "
   ]
  },
  {
   "cell_type": "code",
   "execution_count": null,
   "metadata": {},
   "outputs": [],
   "source": [
    "mannar_main = geodata.get_region_geodata('LK-42', 'gnd')"
   ]
  },
  {
   "cell_type": "code",
   "execution_count": null,
   "metadata": {},
   "outputs": [],
   "source": [
    "mannar_main['gnd_centroid'] = mannar_main['geometry'].centroid"
   ]
  },
  {
   "cell_type": "code",
   "execution_count": null,
   "metadata": {},
   "outputs": [],
   "source": [
    "mannar = mannar_main\n",
    "mannar = mannar.sort_values(by=['centroid_altitude']).reset_index()"
   ]
  },
  {
   "cell_type": "code",
   "execution_count": null,
   "metadata": {},
   "outputs": [],
   "source": [
    "lowest_altitude = mannar.iloc[:3,:]"
   ]
  },
  {
   "cell_type": "code",
   "execution_count": null,
   "metadata": {},
   "outputs": [],
   "source": [
    "lowest_altitude"
   ]
  },
  {
   "cell_type": "code",
   "execution_count": null,
   "metadata": {},
   "outputs": [],
   "source": [
    "highest_altitude = mannar.iloc[-3:,:].reset_index()"
   ]
  },
  {
   "cell_type": "code",
   "execution_count": null,
   "metadata": {},
   "outputs": [],
   "source": [
    "highest_altitude"
   ]
  },
  {
   "cell_type": "code",
   "execution_count": null,
   "metadata": {},
   "outputs": [],
   "source": [
    "mannar['population_density'] = mannar['population']/mannar['area']"
   ]
  },
  {
   "cell_type": "code",
   "execution_count": null,
   "metadata": {},
   "outputs": [],
   "source": [
    "fig, axs = plt.subplots(1,2,figsize=(15,7))\n",
    "axs[0].set_aspect('equal')\n",
    "axs[1].set_aspect('equal')\n",
    "divider_0 = make_axes_locatable(axs[0])\n",
    "divider_1 = make_axes_locatable(axs[1])\n",
    "\n",
    "cax_0 = divider_0.append_axes(\"right\", size=\"5%\", pad=.5)\n",
    "cax_1 = divider_1.append_axes(\"right\", size=\"5%\", pad=.5)\n",
    "\n",
    "mannar.plot(column='centroid_altitude', ax=axs[0], cax=cax_0, legend=True, cmap='OrRd')\n",
    "\n",
    "axs[0].set_title('Mannar District Altitude by GN Division')\n",
    "cax_0.set_ylabel('Altitude in meters', rotation=90)\n",
    "\n",
    "mannar.plot(column='population_density', ax=axs[1], cax=cax_1, legend=True, cmap='OrRd', vmin=0, vmax=200)\n",
    "\n",
    "axs[1].set_title('Mannar District Population Density by GN Division')\n",
    "cax_1.set_ylabel(\"Population per square kilometer\", rotation=90)\n",
    "\n",
    "axs[0].tick_params(which='both', left=False, bottom=False, labelleft=False, labelbottom=False)\n",
    "axs[1].tick_params(which='both', left=False, bottom=False, labelleft=False, labelbottom=False)\n",
    "\n",
    "plt.tight_layout()\n",
    "plt.savefig('mannar_population_density.jpg')"
   ]
  },
  {
   "cell_type": "code",
   "execution_count": null,
   "metadata": {},
   "outputs": [],
   "source": [
    "fig, ax = plt.subplots(figsize=(15,15))\n",
    "\n",
    "ax.set_aspect('equal')\n",
    "divider = make_axes_locatable(ax)\n",
    "cax = divider.append_axes(\"right\", size=\"5%\", pad=1)\n",
    "mannar.plot(column='centroid_altitude', ax=ax, cax=cax, legend=True, \n",
    "            cmap='OrRd')\n",
    "\n",
    "ax.set_title('Mannar District GN Division Altitudes: Highest 3 and Lowest 3 ', fontsize=18)\n",
    "cax.set_ylabel('Altitude in meters', rotation=90, fontsize=16)\n",
    "\n",
    "ax.tick_params(which='both', left=False, bottom=False, labelleft=False, labelbottom=False)\n",
    "\n",
    "highest_altitude['gnd_centroid'].plot(ax=ax, color='black', marker='o', markersize=5)\n",
    "lowest_altitude['gnd_centroid'].plot(ax=ax, color='black', marker='o', markersize=5)\n",
    "\n",
    "for i, name in enumerate(lowest_altitude['name']):\n",
    "    ax.annotate(name, \n",
    "                xy=(lowest_altitude['gnd_centroid'][i].x, \n",
    "                    lowest_altitude['gnd_centroid'][i].y),\n",
    "                xycoords='data',\n",
    "                xytext=(0,5), textcoords='offset points', fontsize=14)\n",
    "\n",
    "\n",
    "ax.annotate(highest_altitude['name'][0], \n",
    "            xy=(highest_altitude['gnd_centroid'][0].x, \n",
    "                highest_altitude['gnd_centroid'][0].y),\n",
    "            xycoords='data',\n",
    "            xytext=(0,10), \n",
    "            textcoords='offset points', \n",
    "            horizontalalignment='right',\n",
    "            fontsize=14)\n",
    "\n",
    "ax.annotate(highest_altitude['name'][1], \n",
    "            xy=(highest_altitude['gnd_centroid'][1].x, \n",
    "                highest_altitude['gnd_centroid'][1].y),\n",
    "            xycoords='data',\n",
    "            xytext=(-8,0), \n",
    "            textcoords='offset points', \n",
    "            horizontalalignment='right',\n",
    "            fontsize=14)\n",
    "\n",
    "ax.annotate(highest_altitude['name'][2], \n",
    "            xy=(highest_altitude['gnd_centroid'][2].x, \n",
    "                highest_altitude['gnd_centroid'][2].y),\n",
    "            xycoords='data',\n",
    "            xytext=(0,-35), \n",
    "            textcoords='offset points', \n",
    "            horizontalalignment='center',\n",
    "            fontsize=14)\n",
    "\n",
    "plt.tight_layout()\n",
    "plt.savefig('mannar_altitude.jpg')"
   ]
  },
  {
   "cell_type": "markdown",
   "metadata": {},
   "source": [
    "### Part 3: Patterns in data, a study of the population density distribution along Ampara's coast "
   ]
  },
  {
   "cell_type": "code",
   "execution_count": null,
   "metadata": {},
   "outputs": [],
   "source": [
    "east = geodata.get_region_geodata('LK-5', 'dsd')\n"
   ]
  },
  {
   "cell_type": "code",
   "execution_count": null,
   "metadata": {},
   "outputs": [],
   "source": [
    "east_store = east.copy()"
   ]
  },
  {
   "cell_type": "code",
   "execution_count": null,
   "metadata": {},
   "outputs": [],
   "source": [
    "east = east_store.copy()"
   ]
  },
  {
   "cell_type": "code",
   "execution_count": null,
   "metadata": {},
   "outputs": [],
   "source": [
    "east = east[~east['district_id'].str.contains('LK-53')]"
   ]
  },
  {
   "cell_type": "code",
   "execution_count": null,
   "metadata": {},
   "outputs": [],
   "source": [
    "east = east.reset_index()"
   ]
  },
  {
   "cell_type": "code",
   "execution_count": null,
   "metadata": {},
   "outputs": [],
   "source": [
    "east['population density'] = east['population']/east['area']\n",
    "east['dsd_centroid'] = east['geometry'].centroid"
   ]
  },
  {
   "cell_type": "code",
   "execution_count": null,
   "metadata": {},
   "outputs": [],
   "source": [
    "fig, ax = plt.subplots(figsize=(15,15))\n",
    "ax.set_aspect('equal')\n",
    "divider = make_axes_locatable(ax)\n",
    "cax = divider.append_axes(\"right\", size=\"5%\", pad=1)\n",
    "east.plot(column='population density', ax=ax, cax=cax, legend=True, cmap=  'YlOrRd', vmin = 100, vmax=5000)\n",
    "\n",
    "\n",
    "for i, name in enumerate(list(east['name'])):\n",
    "    # print(i, name)\n",
    "    ax.annotate(name, \n",
    "                xy=(east.loc[i,'dsd_centroid'].x, \n",
    "                    east.loc[i,'dsd_centroid'].y),\n",
    "                xycoords='data',\n",
    "                xytext=(0,5), textcoords='offset points', fontsize=8)"
   ]
  },
  {
   "cell_type": "code",
   "execution_count": null,
   "metadata": {},
   "outputs": [],
   "source": [
    "east = east[east['dsd_centroid'].x > 81.4 ]"
   ]
  },
  {
   "cell_type": "code",
   "execution_count": null,
   "metadata": {},
   "outputs": [],
   "source": [
    "list(east['name'])"
   ]
  },
  {
   "cell_type": "code",
   "execution_count": null,
   "metadata": {},
   "outputs": [],
   "source": [
    "east = east[~east['name'].str.contains('Lahugala|Damana|Ampara|Uhana')]"
   ]
  },
  {
   "cell_type": "code",
   "execution_count": null,
   "metadata": {},
   "outputs": [],
   "source": [
    "east = east[~east['name'].str.contains('Koralai Pattu Central|Oddamavadi|Valaichchenai|Eravur Pattu|West|')]"
   ]
  },
  {
   "cell_type": "code",
   "execution_count": null,
   "metadata": {},
   "outputs": [],
   "source": [
    "east = east[~east['name'].str.contains('Eravur|Valachchenai|Porativu|Thirukkovil|Pothuvil')]"
   ]
  },
  {
   "cell_type": "code",
   "execution_count": null,
   "metadata": {},
   "outputs": [],
   "source": [
    "east = east.drop('index', axis=1)"
   ]
  },
  {
   "cell_type": "code",
   "execution_count": null,
   "metadata": {},
   "outputs": [],
   "source": [
    "east.reset_index(inplace=True)"
   ]
  },
  {
   "cell_type": "code",
   "execution_count": null,
   "metadata": {},
   "outputs": [],
   "source": []
  },
  {
   "cell_type": "code",
   "execution_count": null,
   "metadata": {},
   "outputs": [],
   "source": [
    "fig, ax = plt.subplots(figsize=(20,20))\n",
    "ax.set_aspect('equal')\n",
    "divider = make_axes_locatable(ax)\n",
    "cax = divider.append_axes(\"right\", size=\"5%\", pad=1)\n",
    "east.plot(column='population density', ax=ax, cax=cax, legend=True,cmap=  'OrRd', vmin = 700, vmax=4000)\n",
    "\n",
    "east['dsd_centroid'].plot(ax=ax, color='black', marker='o', markersize=5)\n",
    "annotate_kalmunai['centroid'].plot(ax=ax, color='black', marker='o', markersize=5)\n",
    "\n",
    "\n",
    "for i, name in enumerate(list(east['name'])):\n",
    "    # print(i, name)\n",
    "    ax.annotate(name, \n",
    "                xy=(east.loc[i,'dsd_centroid'].x, \n",
    "                    east.loc[i,'dsd_centroid'].y),\n",
    "                xycoords='data',\n",
    "                xytext=(0,5), textcoords='offset points', fontsize=12)\n",
    "\n",
    "\n",
    "for i, name in enumerate(list(annotate_kalmunai['name'])):\n",
    "        ax.annotate(name, \n",
    "                xy=(annotate_kalmunai.loc[i,'centroid'].x, \n",
    "                    annotate_kalmunai.loc[i,'centroid'].y),\n",
    "                xycoords='data',\n",
    "                xytext=(0,5), textcoords='offset points', fontsize=12)\n",
    ","
   ]
  },
  {
   "cell_type": "code",
   "execution_count": null,
   "metadata": {},
   "outputs": [],
   "source": [
    "annotate_kalmunai = kalmunai_gnd[kalmunai_gnd.index % 9 == 0]"
   ]
  },
  {
   "cell_type": "code",
   "execution_count": null,
   "metadata": {},
   "outputs": [],
   "source": [
    "annotate_kalmunai = annotate_kalmunai[annotate_kalmunai['gnd_id'].str.contains('LK-5221015|LK-5224040|LK-5224130')]"
   ]
  },
  {
   "cell_type": "code",
   "execution_count": null,
   "metadata": {},
   "outputs": [],
   "source": [
    "annotate_kalmunai = annotate_kalmunai.reset_index()"
   ]
  },
  {
   "cell_type": "code",
   "execution_count": null,
   "metadata": {},
   "outputs": [],
   "source": [
    "annotate_kalmunai.loc[0,'name'] = 'Kalmunaikudi'\n",
    "annotate_kalmunai.loc[1, 'name'] = 'Periyaneelavanai'\n",
    "annotate_kalmunai.loc[2, 'name'] = 'Maruthamunai'"
   ]
  },
  {
   "cell_type": "code",
   "execution_count": null,
   "metadata": {},
   "outputs": [],
   "source": [
    "annotate_kalmunai"
   ]
  },
  {
   "cell_type": "code",
   "execution_count": null,
   "metadata": {},
   "outputs": [],
   "source": [
    "east = east[east['name'].str.contains('Manmunai South & Eruvil pattu|Ninthavur|Karaitheevu|Sainthamaruthu|Kalmunai')]"
   ]
  },
  {
   "cell_type": "code",
   "execution_count": null,
   "metadata": {},
   "outputs": [],
   "source": [
    "east = east.drop('index', axis=1)"
   ]
  },
  {
   "cell_type": "code",
   "execution_count": null,
   "metadata": {},
   "outputs": [],
   "source": [
    "east = east.reset_index()"
   ]
  },
  {
   "cell_type": "code",
   "execution_count": null,
   "metadata": {},
   "outputs": [],
   "source": [
    "ampara = geodata.get_region_geodata('LK-52', 'dsd')\n"
   ]
  },
  {
   "cell_type": "code",
   "execution_count": null,
   "metadata": {},
   "outputs": [],
   "source": [
    "ampara = ampara.reset_index()"
   ]
  },
  {
   "cell_type": "code",
   "execution_count": null,
   "metadata": {},
   "outputs": [],
   "source": [
    "ampara['gnd_centroid'] = ampara['geometry'].centroid"
   ]
  },
  {
   "cell_type": "code",
   "execution_count": null,
   "metadata": {},
   "outputs": [],
   "source": [
    "fig, ax = plt.subplots(figsize=(15,15))\n",
    "ax.set_aspect('equal')\n",
    "divider = make_axes_locatable(ax)\n",
    "cax = divider.append_axes(\"right\", size=\"5%\", pad=1)\n",
    "ampara.plot(column='population', ax=ax, cax=cax, legend=True, cmap=  'YlOrRd', vmin = 500, vmax=100000)\n",
    "\n",
    "for i, name in enumerate(list(ampara['name'])):\n",
    "    # print(i, name)\n",
    "    ax.annotate(name, \n",
    "                xy=(ampara.loc[i,'gnd_centroid'].x, \n",
    "                    ampara.loc[i,'gnd_centroid'].y),\n",
    "                xycoords='data',\n",
    "                xytext=(0,5), textcoords='offset points', fontsize=8)"
   ]
  },
  {
   "cell_type": "code",
   "execution_count": null,
   "metadata": {},
   "outputs": [],
   "source": [
    "ampara['name']"
   ]
  },
  {
   "cell_type": "code",
   "execution_count": null,
   "metadata": {},
   "outputs": [],
   "source": [
    "lk_gnd =  geodata.get_region_geodata(''Manmunai South & Eruvil pattu''Manmunai South & Eruvil pattu'LK', 'gnd')"
   ]
  },
  {
   "cell_type": "code",
   "execution_count": null,
   "metadata": {},
   "outputs": [],
   "source": [
    "lk_gnd.head()"
   ]
  },
  {
   "cell_type": "code",
   "execution_count": null,
   "metadata": {},
   "outputs": [],
   "source": [
    "lk_dsd = geodata.get_region_geodata('LK', 'dsd')"
   ]
  },
  {
   "cell_type": "code",
   "execution_count": null,
   "metadata": {},
   "outputs": [],
   "source": [
    "kalmunai = lk_dsd[lk_dsd['name'].str.contains('Ninthavur')]"
   ]
  },
  {
   "cell_type": "code",
   "execution_count": null,
   "metadata": {},
   "outputs": [],
   "source": [
    "kalmunai"
   ]
  },
  {
   "cell_type": "code",
   "execution_count": null,
   "metadata": {},
   "outputs": [],
   "source": [
    "kalmunai_gnd = lk_gnd[lk_gnd['dsd_id'].str.contains('LK-5221|LK-5224|LK-5227|LK-5225')].copy()"
   ]
  },
  {
   "cell_type": "code",
   "execution_count": null,
   "metadata": {},
   "outputs": [],
   "source": [
    "kalmunai_gnd['centroid'] = kalmunai_gnd['geometry'].centroid\n",
    "kalmunai_gnd['density'] = kalmunai_gnd['population']/kalmunai_gnd['area']"
   ]
  },
  {
   "cell_type": "code",
   "execution_count": null,
   "metadata": {},
   "outputs": [],
   "source": [
    "kalmunai_gnd = kalmunai_gnd.reset_index()"
   ]
  },
  {
   "cell_type": "code",
   "execution_count": null,
   "metadata": {},
   "outputs": [],
   "source": [
    "kalmunai_gnd = kalmunai_gnd.drop('index', axis=1)"
   ]
  },
  {
   "cell_type": "code",
   "execution_count": null,
   "metadata": {
    "scrolled": true
   },
   "outputs": [],
   "source": [
    "fig, ax = plt.subplots(figsize=(15,15))\n",
    "ax.set_aspect('equal')\n",
    "divider = make_axes_locatable(ax)\n",
    "cax = divider.append_axes(\"right\", size=\"5%\", pad=1)\n",
    "\n",
    "dots = kalmunai_gnd[kalmunai_gnd.index % 7 == 0]\n",
    "\n",
    "kalmunai_gnd.plot(column='density', ax=ax, cax=cax, cmap='OrRd', legend=True, vmin=500, vmax=20000)\n",
    "\n",
    "dots['centroid'].plot(ax=ax, color='black', marker='o', markersize=5)\n",
    "\n",
    "for i, name in enumerate(list(kalmunai_gnd['name'])):\n",
    "        if i % 7 !=0:\n",
    "            continue\n",
    "        ax.annotate(name, \n",
    "                xy=(kalmunai_gnd.loc[i,'centroid'].x, \n",
    "                    kalmunai_gnd.loc[i,'centroid'].y),\n",
    "                xycoords='data',\n",
    "                xytext=(0,5), textcoords='offset points', fontsize=14)\n"
   ]
  },
  {
   "cell_type": "code",
   "execution_count": null,
   "metadata": {},
   "outputs": [],
   "source": [
    "kalmunai_gnd['density'].min()"
   ]
  },
  {
   "cell_type": "code",
   "execution_count": null,
   "metadata": {},
   "outputs": [],
   "source": [
    "fig, ax = plt.subplots(figsize=(15,15))\n",
    "east.plot(ax=ax, edgecolor='black')"
   ]
  },
  {
   "cell_type": "code",
   "execution_count": null,
   "metadata": {},
   "outputs": [],
   "source": [
    "ls"
   ]
  }
 ],
 "metadata": {
  "kernelspec": {
   "display_name": "Python 3",
   "language": "python",
   "name": "python3"
  },
  "language_info": {
   "codemirror_mode": {
    "name": "ipython",
    "version": 3
   },
   "file_extension": ".py",
   "mimetype": "text/x-python",
   "name": "python",
   "nbconvert_exporter": "python",
   "pygments_lexer": "ipython3",
   "version": "3.9.5"
  }
 },
 "nbformat": 4,
 "nbformat_minor": 2
}
